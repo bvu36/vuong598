{
  "nbformat": 4,
  "nbformat_minor": 0,
  "metadata": {
    "colab": {
      "provenance": [],
      "authorship_tag": "ABX9TyOaumdoMbruAbzxBOWOYImD",
      "include_colab_link": true
    },
    "kernelspec": {
      "name": "python3",
      "display_name": "Python 3"
    },
    "language_info": {
      "name": "python"
    }
  },
  "cells": [
    {
      "cell_type": "markdown",
      "metadata": {
        "id": "view-in-github",
        "colab_type": "text"
      },
      "source": [
        "<a href=\"https://colab.research.google.com/github/bvu36/vuong598/blob/main/vuong598hw5.ipynb\" target=\"_parent\"><img src=\"https://colab.research.google.com/assets/colab-badge.svg\" alt=\"Open In Colab\"/></a>"
      ]
    },
    {
      "cell_type": "code",
      "execution_count": 5,
      "metadata": {
        "colab": {
          "base_uri": "https://localhost:8080/"
        },
        "id": "nee7-e_m_rET",
        "outputId": "5b826b69-0cd3-486b-b207-4a8a712f44c2"
      },
      "outputs": [
        {
          "output_type": "stream",
          "name": "stdout",
          "text": [
            "Solutions\n",
            "x1 = -2.3850240893352748e-08\n",
            "x2 = 2.999999981720265\n"
          ]
        }
      ],
      "source": [
        "# Bryan Vuong\n",
        "# MAE 598 HW5\n",
        "# Problem 1\n",
        "\n",
        "import numpy as np\n",
        "from scipy.optimize import minimize\n",
        "\n",
        "# Equation and Definitions\n",
        "def f(x):\n",
        "  #variables\n",
        "    x1 = x[0]\n",
        "    x2 = x[1]\n",
        "    return (x1)**2 + (x2-3)**2\n",
        "\n",
        "def constraints1(x): \n",
        "    return x[1]**2 - (2*x[0])\n",
        "\n",
        "def constraints2(x):\n",
        "    return (x[1] - 1)**2 + (5*x[0])-15\n",
        "\n",
        "def constraints3(x):\n",
        "    return x[1] - x[4]\n",
        "\n",
        "# initial guess\n",
        "x0 = [1,1]\n",
        "\n",
        "\n",
        "# bounds\n",
        "bnds = ((-10,10),(-10,10))\n",
        "\n",
        "# constraints\n",
        "cons = ({'type': 'eq', 'fun': constraints1},\n",
        "        {'type': 'eq', 'fun': constraints2},\n",
        "        )\n",
        "\n",
        "# answers\n",
        "ans = minimize(f,x0,method='BFGS',bounds=bnds,constraints=cons)\n",
        "x = ans.x\n",
        "\n",
        "print('Solutions')\n",
        "print('x1 = ' + str(x[0]))\n",
        "print('x2 = ' + str(x[1]))\n"
      ]
    }
  ]
}