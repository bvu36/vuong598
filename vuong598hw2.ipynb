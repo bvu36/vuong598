{
  "nbformat": 4,
  "nbformat_minor": 0,
  "metadata": {
    "colab": {
      "provenance": [],
      "authorship_tag": "ABX9TyMGECYUhtZ8wjMIJqMMHExU",
      "include_colab_link": true
    },
    "kernelspec": {
      "name": "python3",
      "display_name": "Python 3"
    },
    "language_info": {
      "name": "python"
    }
  },
  "cells": [
    {
      "cell_type": "markdown",
      "metadata": {
        "id": "view-in-github",
        "colab_type": "text"
      },
      "source": [
        "<a href=\"https://colab.research.google.com/github/bvu36/vuong598/blob/main/vuong598hw2.ipynb\" target=\"_parent\"><img src=\"https://colab.research.google.com/assets/colab-badge.svg\" alt=\"Open In Colab\"/></a>"
      ]
    },
    {
      "cell_type": "code",
      "execution_count": 16,
      "metadata": {
        "colab": {
          "base_uri": "https://localhost:8080/"
        },
        "id": "rDSf0KU0817s",
        "outputId": "10fc1203-376b-4735-849e-c661bad31804"
      },
      "outputs": [
        {
          "output_type": "stream",
          "name": "stdout",
          "text": [
            "X1 is -0.3857805000000005\n",
            "X2 is 0.13397499999999984\n",
            "X3 is 0.453125\n"
          ]
        }
      ],
      "source": [
        "# Bryan Vuong\n",
        "# MAE 598 HW2\n",
        "\n",
        "# Initial Guess\n",
        "x1 = 0.5\n",
        "x2 = 0.5\n",
        "x3 = 0.5\n",
        "a1 = 1\n",
        "a2 = 1\n",
        "a3 = 1\n",
        "\n",
        "f = x1 + (2*x2) + (3*x3);\n",
        "dx1 = 1 # partial derivatives for gradient\n",
        "dx2 = 2\n",
        "dx3 = 3\n",
        "\n",
        "# Answers\n",
        "fx1 = x1 -(a1 * dx1)\n",
        "fx2 = x2 -(a2 * dx2)\n",
        "fx3 = x3 -(a3 * dx3)\n",
        "\n",
        "count = 0\n",
        "# Gradient Descent\n",
        "\n",
        "while fx1 != -1.071 and fx2 != -0.143 and fx3 != 0.786:\n",
        "  if fx1 > -1.071:\n",
        "    a1 = a1 * 1.1\n",
        "    fx1 = x1 - (a1 * dx1)\n",
        "    count = count+1\n",
        "  if fx1 < -1.071:\n",
        "    a1 = a1 * 0.5\n",
        "    fx1 = x1 - (a1 * dx1)\n",
        "    count = count+1\n",
        "\n",
        "  if fx2 > -0.143:\n",
        "      a2 = a2 * 1.1\n",
        "      fx2 = x2 - (a2 * dx2)\n",
        "      count = count+1\n",
        "  if fx2 < -0.143:\n",
        "      a2 = a2 * 0.5\n",
        "      fx2 = x2 - (a2 * dx2)\n",
        "      count = count+1\n",
        "\n",
        "  if fx3 > 0.786:\n",
        "      a3 = a3 * 1.1\n",
        "      fx3 = x3 - (a3 * dx3)\n",
        "      count = count+1\n",
        "  if fx3 < 0.786:\n",
        "      a3 = a3 * 0.5\n",
        "      fx3 = x3 - (a3 * dx3)\n",
        "      count = count+1\n",
        "\n",
        "\n",
        "  if count==20:\n",
        "    break\n",
        "\n",
        "print('X1 is ' + str(fx1))\n",
        "print('X2 is ' + str(fx2))\n",
        "print('X3 is ' + str(fx3))"
      ]
    }
  ]
}