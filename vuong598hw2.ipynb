{
  "nbformat": 4,
  "nbformat_minor": 0,
  "metadata": {
    "colab": {
      "provenance": [],
      "authorship_tag": "ABX9TyNAPe9ktai1NNrD7Pk7OE9h",
      "include_colab_link": true
    },
    "kernelspec": {
      "name": "python3",
      "display_name": "Python 3"
    },
    "language_info": {
      "name": "python"
    }
  },
  "cells": [
    {
      "cell_type": "markdown",
      "metadata": {
        "id": "view-in-github",
        "colab_type": "text"
      },
      "source": [
        "<a href=\"https://colab.research.google.com/github/bvu36/vuong598/blob/main/vuong598hw2.ipynb\" target=\"_parent\"><img src=\"https://colab.research.google.com/assets/colab-badge.svg\" alt=\"Open In Colab\"/></a>"
      ]
    },
    {
      "cell_type": "code",
      "execution_count": null,
      "metadata": {
        "id": "rDSf0KU0817s"
      },
      "outputs": [],
      "source": [
        "# Bryan Vuong\n",
        "# MAE 598 HW2\n",
        "\n",
        "# Initial Guess\n",
        "x1 = 0.5\n",
        "x2 = 0.5\n",
        "x3 = 0.5\n",
        "alpha = 1;\n",
        "\n",
        "\n",
        "f = x1 + (2*x2) + (3*x3);\n",
        "dx1 = 1 # partial derivatives for gradient\n",
        "dx2 = 2\n",
        "dx3 = 3\n",
        "\n",
        "# Answers\n",
        "fx1 = x1 -(alpha * dx1)\n",
        "fx2 = x2 -(alpha * dx2)\n",
        "fx3 = x3 -(alpha * dx3)\n",
        "\n",
        "# Gradient Descent\n",
        "\n",
        "while fx1 != -1.071 and fx2 != -0.143 and fx3 != 0.786\n",
        "  if fx1 < -1.071\n",
        "\n",
        "\n",
        "\n"
      ]
    }
  ]
}