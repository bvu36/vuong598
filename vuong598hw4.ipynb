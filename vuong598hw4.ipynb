{
  "nbformat": 4,
  "nbformat_minor": 0,
  "metadata": {
    "colab": {
      "provenance": [],
      "authorship_tag": "ABX9TyPFmRKF9Efo1k0k8kTFrGio",
      "include_colab_link": true
    },
    "kernelspec": {
      "name": "python3",
      "display_name": "Python 3"
    },
    "language_info": {
      "name": "python"
    }
  },
  "cells": [
    {
      "cell_type": "markdown",
      "metadata": {
        "id": "view-in-github",
        "colab_type": "text"
      },
      "source": [
        "<a href=\"https://colab.research.google.com/github/bvu36/vuong598/blob/main/vuong598hw4.ipynb\" target=\"_parent\"><img src=\"https://colab.research.google.com/assets/colab-badge.svg\" alt=\"Open In Colab\"/></a>"
      ]
    },
    {
      "cell_type": "code",
      "execution_count": 2,
      "metadata": {
        "colab": {
          "base_uri": "https://localhost:8080/",
          "height": 130
        },
        "id": "9n1CV70v51JA",
        "outputId": "1e0de8df-8cbe-449f-b579-c7e1c475f6b1"
      },
      "outputs": [
        {
          "output_type": "error",
          "ename": "SyntaxError",
          "evalue": "ignored",
          "traceback": [
            "\u001b[0;36m  File \u001b[0;32m\"<ipython-input-2-54e5e9adc679>\"\u001b[0;36m, line \u001b[0;32m23\u001b[0m\n\u001b[0;31m    while df > 0\u001b[0m\n\u001b[0m                ^\u001b[0m\n\u001b[0;31mSyntaxError\u001b[0m\u001b[0;31m:\u001b[0m invalid syntax\n"
          ]
        }
      ],
      "source": [
        "# Bryan Vuong\n",
        "# MAE 598 HW 4\n",
        "# Problem 4\n",
        "\n",
        "\n",
        "import numpy as np\n",
        "import torch as t\n",
        "\n",
        "# given equations\n",
        "def f(x1, x2, x3): \n",
        " return (x1 **2) + (x2 **2) + (x3 **2)\n",
        "# h1 = ((x1 **2) / 4) + ((x2 **2) / 5) + ((x3 **2) / 25)  - 1 = 0\n",
        "# h2 = x1 + x2 - x3 = 0\n",
        "\n",
        "# variables\n",
        "df = np.gradient(f)\n",
        "i = 0 # iteration variable\n",
        "si = x3\n",
        "di = [x1, x2]\n",
        "\n",
        "\n",
        "# algorithm\n",
        "while df > 0\n",
        "  alpha_i = line_search(df, si, di)\n",
        "  d_plusone = di - alpha_i * df\n",
        "\n",
        "  s_plusone = si + alpha_i * ((dh ** (-1) * dhdd * df))\n",
        "  s_plusone = solve (h, d_plusone, s_plusone)\n",
        "\n",
        "  i = i + 1\n",
        "\n",
        "  return s_plusone\n"
      ]
    }
  ]
}