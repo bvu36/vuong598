{
  "nbformat": 4,
  "nbformat_minor": 0,
  "metadata": {
    "colab": {
      "provenance": [],
      "authorship_tag": "ABX9TyPnE3BLohmbU/xvbe/yFZJs",
      "include_colab_link": true
    },
    "kernelspec": {
      "name": "python3",
      "display_name": "Python 3"
    },
    "language_info": {
      "name": "python"
    }
  },
  "cells": [
    {
      "cell_type": "markdown",
      "metadata": {
        "id": "view-in-github",
        "colab_type": "text"
      },
      "source": [
        "<a href=\"https://colab.research.google.com/github/bvu36/vuong598/blob/main/vuong598hw4.ipynb\" target=\"_parent\"><img src=\"https://colab.research.google.com/assets/colab-badge.svg\" alt=\"Open In Colab\"/></a>"
      ]
    },
    {
      "cell_type": "code",
      "execution_count": null,
      "metadata": {
        "id": "9n1CV70v51JA"
      },
      "outputs": [],
      "source": [
        "# Bryan Vuong\n",
        "# MAE 598 HW 4\n",
        "# Problem 4\n",
        "\n",
        "\n",
        "import numpy as np\n",
        "import torch as t\n",
        "\n",
        "# given equations\n",
        "f = (x1 **2) + (x2 **2) + (x3 **2)\n",
        "# h1 = ((x1 **2) / 4) + ((x2 **2) / 5) + ((x3 **2) / 25)  - 1 = 0\n",
        "# h2 = x1 + x2 - x3 = 0\n",
        "\n",
        "# variables\n",
        "df = np.gradient(f)\n",
        "i = 0 # iteration variable\n",
        "si = x3\n",
        "di = [x1, x2]\n",
        "\n",
        "\n",
        "# algorithm\n",
        "while df > 0\n",
        "  alpha_i = line_search(df, si, di)\n",
        "  d_plusone = di - alpha_i * df\n",
        "\n",
        "  s_plusone = si + alpha_i * ((dh ** (-1) * dhdd * df))\n",
        "  s_plusone = solve (h, d_plusone, s_plusone)\n",
        "\n",
        "  i = i + 1\n"
      ]
    }
  ]
}