{
  "nbformat": 4,
  "nbformat_minor": 0,
  "metadata": {
    "colab": {
      "provenance": [],
      "authorship_tag": "ABX9TyOOanpqLjX6N8Ihh6Fgg4aN",
      "include_colab_link": true
    },
    "kernelspec": {
      "name": "python3",
      "display_name": "Python 3"
    },
    "language_info": {
      "name": "python"
    }
  },
  "cells": [
    {
      "cell_type": "markdown",
      "metadata": {
        "id": "view-in-github",
        "colab_type": "text"
      },
      "source": [
        "<a href=\"https://colab.research.google.com/github/bvu36/vuong598/blob/main/vuong598hw3p2.ipynb\" target=\"_parent\"><img src=\"https://colab.research.google.com/assets/colab-badge.svg\" alt=\"Open In Colab\"/></a>"
      ]
    },
    {
      "cell_type": "code",
      "execution_count": 10,
      "metadata": {
        "colab": {
          "base_uri": "https://localhost:8080/"
        },
        "id": "YNeHd2u14elX",
        "outputId": "9482ecb9-ffb8-421d-db89-233dbc789aa2"
      },
      "outputs": [
        {
          "output_type": "stream",
          "name": "stdout",
          "text": [
            "Looking in indexes: https://pypi.org/simple, https://us-python.pkg.dev/colab-wheels/public/simple/\n",
            "Requirement already satisfied: bayesian-optimization in /usr/local/lib/python3.7/dist-packages (1.2.0)\n",
            "Requirement already satisfied: scipy>=0.14.0 in /usr/local/lib/python3.7/dist-packages (from bayesian-optimization) (1.7.3)\n",
            "Requirement already satisfied: scikit-learn>=0.18.0 in /usr/local/lib/python3.7/dist-packages (from bayesian-optimization) (1.0.2)\n",
            "Requirement already satisfied: numpy>=1.9.0 in /usr/local/lib/python3.7/dist-packages (from bayesian-optimization) (1.21.6)\n",
            "Requirement already satisfied: joblib>=0.11 in /usr/local/lib/python3.7/dist-packages (from scikit-learn>=0.18.0->bayesian-optimization) (1.2.0)\n",
            "Requirement already satisfied: threadpoolctl>=2.0.0 in /usr/local/lib/python3.7/dist-packages (from scikit-learn>=0.18.0->bayesian-optimization) (3.1.0)\n",
            "|   iter    |  target   |    x1     |    x2     |\n",
            "-------------------------------------------------\n",
            "| \u001b[0m 1       \u001b[0m | \u001b[0m-2.0     \u001b[0m | \u001b[0m-0.4979  \u001b[0m | \u001b[0m 0.8813  \u001b[0m |\n",
            "| \u001b[0m 2       \u001b[0m | \u001b[0m-107.3   \u001b[0m | \u001b[0m-2.999   \u001b[0m | \u001b[0m-0.7907  \u001b[0m |\n",
            "| \u001b[95m 3       \u001b[0m | \u001b[95m-0.7696  \u001b[0m | \u001b[95m-0.3473  \u001b[0m | \u001b[95m 1.004   \u001b[0m |\n",
            "| \u001b[0m 4       \u001b[0m | \u001b[0m-9.17    \u001b[0m | \u001b[0m 2.151   \u001b[0m | \u001b[0m-0.745   \u001b[0m |\n",
            "| \u001b[0m 5       \u001b[0m | \u001b[0m-54.9    \u001b[0m | \u001b[0m 3.0     \u001b[0m | \u001b[0m 2.0     \u001b[0m |\n",
            "=================================================\n",
            "Answer is {'x1': -0.34733606868853756, 'x2': 1.0039262127520778} \n"
          ]
        }
      ],
      "source": [
        "# Bryan Vuong\n",
        "# MAE 598 HW3 Problem 2\n",
        "\n",
        "# imports\n",
        "import numpy as np\n",
        "!pip install bayesian-optimization # needed to install bayes_opt\n",
        "from bayes_opt import BayesianOptimization, UtilityFunction\n",
        "\n",
        "# Function\n",
        "def funct(x1, x2):\n",
        "   return -((4 - (2.1 * (x1 **2)) + (x1 ** 4 / 3)) * (x1 ** 2)) + \\\n",
        "          (x1 * x2) + ((-4 + (4*(x2 ** 2)))* (x2 ** 2))\n",
        "\n",
        "# Bayesian Optimization\n",
        "pbounds = {'x1': (-3, 3), 'x2': (-2, 2)} # bounds\n",
        "\n",
        "# optimization solver\n",
        "optimizer = BayesianOptimization(f = funct, pbounds = pbounds,random_state = 1,)\n",
        "optimizer.maximize(init_points = 2, n_iter = 3,)\n",
        "\n",
        "# Answer\n",
        "print('Answer is {} '.format(optimizer.max[\"params\"]) )"
      ]
    },
    {
      "cell_type": "code",
      "source": [],
      "metadata": {
        "id": "ur3eOMrrCX2l"
      },
      "execution_count": null,
      "outputs": []
    }
  ]
}