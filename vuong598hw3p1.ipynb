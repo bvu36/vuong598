{
  "nbformat": 4,
  "nbformat_minor": 0,
  "metadata": {
    "colab": {
      "provenance": [],
      "authorship_tag": "ABX9TyM69YSmmRdNlyzmADgQWJsc",
      "include_colab_link": true
    },
    "kernelspec": {
      "name": "python3",
      "display_name": "Python 3"
    },
    "language_info": {
      "name": "python"
    }
  },
  "cells": [
    {
      "cell_type": "markdown",
      "metadata": {
        "id": "view-in-github",
        "colab_type": "text"
      },
      "source": [
        "<a href=\"https://colab.research.google.com/github/bvu36/vuong598/blob/main/vuong598hw3p1.ipynb\" target=\"_parent\"><img src=\"https://colab.research.google.com/assets/colab-badge.svg\" alt=\"Open In Colab\"/></a>"
      ]
    },
    {
      "cell_type": "code",
      "execution_count": 8,
      "metadata": {
        "colab": {
          "base_uri": "https://localhost:8080/"
        },
        "id": "EGZZnKxK_Uch",
        "outputId": "40873897-49fd-4c2e-e28b-1efddd982266"
      },
      "outputs": [
        {
          "output_type": "stream",
          "name": "stdout",
          "text": [
            "A12 and A21 are  tensor([1.9110, 1.7293], requires_grad=True)\n",
            "The loss is  0.87836385\n",
            "\n",
            "Answer using HW1\n",
            "x1 = 0.0\n",
            "x2 = 1.0\n",
            "x3 = -7.123572804138453\n",
            "x4 = -10.0\n"
          ]
        }
      ],
      "source": [
        "# Bryan Vuong\n",
        "# MAE 598 HW 3 Problem1\n",
        "\n",
        "\n",
        "import numpy as np\n",
        "import torch\n",
        "from torch.autograd import Variable\n",
        "import matplotlib.pyplot as plt\n",
        "from IPython import display\n",
        "import math \n",
        "\n",
        "# Variables and Givens\n",
        "x1 = np.array([[0.0, 0.1, 0.2, 0.3, 0.4, 0.5, 0.6, 0.7, 0.8, 0.9, 1.0]])\n",
        "x2 = np.flip(x1, axis=1).copy()\n",
        "a = np.array(([[8.07131, 1730.63, 233.426], [7.43155, 1554.679, 240.337]]))\n",
        "T = 20\n",
        "\n",
        "# equations\n",
        "pwater = 10 ** (a[0, 0] - a[0,1] / (T + a[0,2]))\n",
        "pdiox = 10 ** (a[1, 0] - a[1,1] / (T + a[1,2]))\n",
        "p = np.array([[28.1, 34.4, 36.7, 36.9, 36.8, 36.7, 36.5, 35.4, 32.9, 27.7, 17.5]])\n",
        "p = torch.tensor(p, requires_grad=False, dtype=torch.float32)\n",
        "\n",
        "A = Variable(torch.tensor([1.0, 1.0]), requires_grad=True)\n",
        "x1torch = torch.tensor(x1, requires_grad=False, dtype=torch.float32)\n",
        "x2torch = torch.tensor(x2, requires_grad=False, dtype=torch.float32)\n",
        "\n",
        "a = 0.0001\n",
        "\n",
        "# for loop for prediction\n",
        "for i in range(100):\n",
        "              ppredict = x1torch * torch.exp(A[0] * (A[1] *x2torch / (A[0] * x1torch + A[1] * x2torch)) ** 2) * pwater + \\\n",
        "                  x2torch * torch.exp(A[1] * (A[0] * x1torch / (A[0] * x1torch + A[1] * x2torch)) ** 2) *pdiox\n",
        "\n",
        "              loss = (ppredict - p) ** 2\n",
        "              loss = loss.sum()\n",
        "\n",
        "              loss.backward()\n",
        "\n",
        "              with torch.no_grad():\n",
        "                A -= a * A.grad\n",
        "\n",
        "                A.grad.zero_()\n",
        "\n",
        "print('A12 and A21 are ',A)\n",
        "print('The loss is ', loss.data.numpy())\n",
        "\n",
        "\n",
        "# Comparison with HW1 -----------------------------------------------\n",
        "import numpy as np\n",
        "from scipy.optimize import minimize\n",
        " \n",
        "\n",
        "# Equation and Definitions\n",
        "def f(x):\n",
        "  #variables\n",
        "    x1 = x[0]\n",
        "    x2 = x[1] \n",
        "    x3 = x[2] # A12\n",
        "    x4 = x[3] # A21\n",
        "    x5 = x[4] #psat\n",
        "    return x1 * (2.7183 ** (x3 * ((x4 * x2) / ((x3 * x1) + (x4 * x2)) )** 2 )) * x5\n",
        "\n",
        "def constraints1(x): \n",
        "    return x[0] + x[1] - 1\n",
        "\n",
        "\n",
        "# initial guess\n",
        "x0 = [0.5,0.5,3,5,36]\n",
        "\n",
        "\n",
        "# bounds\n",
        "bnds = ((0,1),(0,1),(-10,10),(-10,10),(17.5,36.9))\n",
        "\n",
        "# constraints\n",
        "cons = ({'type': 'eq', 'fun': constraints1},\n",
        ")\n",
        "\n",
        "# answers\n",
        "ans = minimize(f,x0,method='SLSQP',bounds=bnds,constraints=cons)\n",
        "x = ans.x\n",
        "\n",
        "print()\n",
        "print('Answer using HW1')\n",
        "print('x1 = ' + str(x[0]))\n",
        "print('x2 = ' + str(x[1]))\n",
        "print('x3 = ' + str(x[2]))\n",
        "print('x4 = ' + str(x[3]))\n",
        "\n",
        "\n"
      ]
    }
  ]
}