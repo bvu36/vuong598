{
  "nbformat": 4,
  "nbformat_minor": 0,
  "metadata": {
    "colab": {
      "provenance": [],
      "collapsed_sections": [],
      "toc_visible": true
    },
    "kernelspec": {
      "name": "python3",
      "display_name": "Python 3"
    },
    "language_info": {
      "name": "python"
    }
  },
  "cells": [
    {
      "cell_type": "code",
      "execution_count": 22,
      "metadata": {
        "colab": {
          "base_uri": "https://localhost:8080/"
        },
        "id": "nee7-e_m_rET",
        "outputId": "a6767052-fcf1-40a0-a06a-f6761a8b2ed8"
      },
      "outputs": [
        {
          "output_type": "stream",
          "name": "stdout",
          "text": [
            "Solution\n",
            "x1 = 0.12325016984876178\n",
            "x2 = 0.7260263632830797\n",
            "x3 = -0.04108338994958726\n",
            "x4 = 1.4931361165157464\n",
            "x5 = 0.7260263632830797\n"
          ]
        }
      ],
      "source": [
        "# Bryan Vuong\n",
        "# MAE 598 HW1\n",
        "\n",
        "import numpy as np\n",
        "from scipy.optimize import minimize\n",
        "\n",
        "# Equation and Definitions\n",
        "def f(x):\n",
        "  #variables\n",
        "    x1 = x[0]\n",
        "    x2 = x[1]\n",
        "    x3 = x[2]\n",
        "    x4 = x[3]\n",
        "    x5 = x[4]\n",
        "    return (x1 - x2)**2 + (x2 + x3 -2)**2 + (x4-1)**2 + (x5-1)**2\n",
        "\n",
        "def constraints1(x): \n",
        "    return x[0] + (3*x[2])\n",
        "\n",
        "def constraints2(x):\n",
        "    return x[2] + x[3] - (2*x[4])\n",
        "\n",
        "def constraints3(x):\n",
        "    return x[1] - x[4]\n",
        "\n",
        "# initial guess\n",
        "x0 = [-2,1,3,5,-1]\n",
        "\n",
        "\n",
        "# bounds\n",
        "bnds = ((-10,10),(-10,10),(-10,10),(-10,10),(-10,10))\n",
        "\n",
        "# constraints\n",
        "cons = ({'type': 'eq', 'fun': constraints1},\n",
        "        {'type': 'eq', 'fun': constraints2},\n",
        "        {'type': 'eq', 'fun': constraints3})\n",
        "\n",
        "# answers\n",
        "ans = minimize(f,x0,method='SLSQP',bounds=bnds,constraints=cons)\n",
        "x = ans.x\n",
        "\n",
        "print('Solution')\n",
        "print('x1 = ' + str(x[0]))\n",
        "print('x2 = ' + str(x[1]))\n",
        "print('x3 = ' + str(x[2]))\n",
        "print('x4 = ' + str(x[3]))\n",
        "print('x5 = ' + str(x[4]))"
      ]
    }
  ]
}